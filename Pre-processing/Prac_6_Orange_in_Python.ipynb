{
  "nbformat": 4,
  "nbformat_minor": 0,
  "metadata": {
    "colab": {
      "name": "Prac -6 Orange in Python.ipynb",
      "provenance": []
    },
    "kernelspec": {
      "name": "python3",
      "display_name": "Python 3"
    },
    "language_info": {
      "name": "python"
    }
  },
  "cells": [
    {
      "cell_type": "markdown",
      "metadata": {
        "id": "ltkv58i7TsA7"
      },
      "source": [
        "#Instructions\n",
        "**What is the effect of discretization, continuization, Normalization, Randomization on the data w.r.t. Orange?**\n",
        "\n",
        "**How to work with Orange in Python and vice-versa?**\n",
        "\n",
        "**Text / Data Preprocessing with Orange tool.**"
      ]
    },
    {
      "cell_type": "code",
      "metadata": {
        "colab": {
          "base_uri": "https://localhost:8080/"
        },
        "id": "zIBiwTyoT5GN",
        "outputId": "e5493d3d-a0b5-4450-9de4-7d3128daae2c"
      },
      "source": [
        "!pip install Orange3"
      ],
      "execution_count": null,
      "outputs": [
        {
          "output_type": "stream",
          "name": "stdout",
          "text": [
            "Collecting Orange3\n",
            "  Downloading Orange3-3.29.3-cp37-cp37m-manylinux_2_5_x86_64.manylinux1_x86_64.whl (25.3 MB)\n",
            "\u001b[K     |████████████████████████████████| 25.3 MB 86 kB/s \n",
            "\u001b[?25hRequirement already satisfied: bottleneck>=1.0.0 in /usr/local/lib/python3.7/dist-packages (from Orange3) (1.3.2)\n",
            "Collecting PyQtWebEngine>=5.12\n",
            "  Downloading PyQtWebEngine-5.15.4-cp36.cp37.cp38.cp39-abi3-manylinux2014_x86_64.whl (229 kB)\n",
            "\u001b[K     |████████████████████████████████| 229 kB 74.0 MB/s \n",
            "\u001b[?25hCollecting orange-canvas-core<0.2a,>=0.1.21\n",
            "  Downloading orange_canvas_core-0.1.22-py3-none-any.whl (489 kB)\n",
            "\u001b[K     |████████████████████████████████| 489 kB 56.4 MB/s \n",
            "\u001b[?25hRequirement already satisfied: requests in /usr/local/lib/python3.7/dist-packages (from Orange3) (2.23.0)\n",
            "Requirement already satisfied: pyyaml in /usr/local/lib/python3.7/dist-packages (from Orange3) (3.13)\n",
            "Collecting serverfiles\n",
            "  Downloading serverfiles-0.3.1.tar.gz (11 kB)\n",
            "Requirement already satisfied: openpyxl in /usr/local/lib/python3.7/dist-packages (from Orange3) (2.5.9)\n",
            "Collecting pyqtgraph>=0.11.1\n",
            "  Downloading pyqtgraph-0.12.2-py3-none-any.whl (959 kB)\n",
            "\u001b[K     |████████████████████████████████| 959 kB 52.9 MB/s \n",
            "\u001b[?25hRequirement already satisfied: networkx in /usr/local/lib/python3.7/dist-packages (from Orange3) (2.6.2)\n",
            "Requirement already satisfied: setuptools>=36.3 in /usr/local/lib/python3.7/dist-packages (from Orange3) (57.4.0)\n",
            "Requirement already satisfied: scikit-learn!=0.23.0,>=0.22.0 in /usr/local/lib/python3.7/dist-packages (from Orange3) (0.22.2.post1)\n",
            "Requirement already satisfied: joblib>=0.9.4 in /usr/local/lib/python3.7/dist-packages (from Orange3) (1.0.1)\n",
            "Collecting keyrings.alt\n",
            "  Downloading keyrings.alt-4.1.0-py3-none-any.whl (20 kB)\n",
            "Requirement already satisfied: pandas>=1.0.0 in /usr/local/lib/python3.7/dist-packages (from Orange3) (1.1.5)\n",
            "Collecting xlsxwriter\n",
            "  Downloading XlsxWriter-3.0.1-py3-none-any.whl (148 kB)\n",
            "\u001b[K     |████████████████████████████████| 148 kB 68.7 MB/s \n",
            "\u001b[?25hCollecting keyring\n",
            "  Downloading keyring-23.2.1-py3-none-any.whl (33 kB)\n",
            "Collecting PyQt5!=5.15.1,>=5.12\n",
            "  Downloading PyQt5-5.15.4-cp36.cp37.cp38.cp39-abi3-manylinux2014_x86_64.whl (8.3 MB)\n",
            "\u001b[K     |████████████████████████████████| 8.3 MB 45.4 MB/s \n",
            "\u001b[?25hRequirement already satisfied: pip>=9.0 in /usr/local/lib/python3.7/dist-packages (from Orange3) (21.1.3)\n",
            "Collecting httpx<0.17,>=0.14.0\n",
            "  Downloading httpx-0.16.1-py3-none-any.whl (65 kB)\n",
            "\u001b[K     |████████████████████████████████| 65 kB 4.4 MB/s \n",
            "\u001b[?25hRequirement already satisfied: python-louvain>=0.13 in /usr/local/lib/python3.7/dist-packages (from Orange3) (0.15)\n",
            "Requirement already satisfied: scipy>=0.16.1 in /usr/local/lib/python3.7/dist-packages (from Orange3) (1.4.1)\n",
            "Requirement already satisfied: matplotlib>=2.0.0 in /usr/local/lib/python3.7/dist-packages (from Orange3) (3.2.2)\n",
            "Collecting orange-widget-base>=4.13.0\n",
            "  Downloading orange_widget_base-4.13.1-py3-none-any.whl (251 kB)\n",
            "\u001b[K     |████████████████████████████████| 251 kB 72.3 MB/s \n",
            "\u001b[?25hRequirement already satisfied: xlrd>=0.9.2 in /usr/local/lib/python3.7/dist-packages (from Orange3) (1.1.0)\n",
            "Collecting openTSNE>=0.6.0\n",
            "  Downloading openTSNE-0.6.0-cp37-cp37m-manylinux2010_x86_64.whl (2.3 MB)\n",
            "\u001b[K     |████████████████████████████████| 2.3 MB 38.5 MB/s \n",
            "\u001b[?25hRequirement already satisfied: numpy>=1.16.0 in /usr/local/lib/python3.7/dist-packages (from Orange3) (1.19.5)\n",
            "Requirement already satisfied: chardet>=3.0.2 in /usr/local/lib/python3.7/dist-packages (from Orange3) (3.0.4)\n",
            "Collecting baycomp>=1.0.2\n",
            "  Downloading baycomp-1.0.2-py3-none-any.whl (17 kB)\n",
            "Collecting AnyQt>=0.0.11\n",
            "  Downloading AnyQt-0.0.13-py3-none-any.whl (47 kB)\n",
            "\u001b[K     |████████████████████████████████| 47 kB 5.0 MB/s \n",
            "\u001b[?25hCollecting rfc3986[idna2008]<2,>=1.3\n",
            "  Downloading rfc3986-1.5.0-py2.py3-none-any.whl (31 kB)\n",
            "Collecting sniffio\n",
            "  Downloading sniffio-1.2.0-py3-none-any.whl (10 kB)\n",
            "Collecting httpcore==0.12.*\n",
            "  Downloading httpcore-0.12.3-py3-none-any.whl (55 kB)\n",
            "\u001b[K     |████████████████████████████████| 55 kB 4.3 MB/s \n",
            "\u001b[?25hRequirement already satisfied: certifi in /usr/local/lib/python3.7/dist-packages (from httpx<0.17,>=0.14.0->Orange3) (2021.5.30)\n",
            "Collecting h11==0.*\n",
            "  Downloading h11-0.12.0-py3-none-any.whl (54 kB)\n",
            "\u001b[K     |████████████████████████████████| 54 kB 3.6 MB/s \n",
            "\u001b[?25hRequirement already satisfied: pyparsing!=2.0.4,!=2.1.2,!=2.1.6,>=2.0.1 in /usr/local/lib/python3.7/dist-packages (from matplotlib>=2.0.0->Orange3) (2.4.7)\n",
            "Requirement already satisfied: python-dateutil>=2.1 in /usr/local/lib/python3.7/dist-packages (from matplotlib>=2.0.0->Orange3) (2.8.2)\n",
            "Requirement already satisfied: kiwisolver>=1.0.1 in /usr/local/lib/python3.7/dist-packages (from matplotlib>=2.0.0->Orange3) (1.3.1)\n",
            "Requirement already satisfied: cycler>=0.10 in /usr/local/lib/python3.7/dist-packages (from matplotlib>=2.0.0->Orange3) (0.10.0)\n",
            "Requirement already satisfied: six in /usr/local/lib/python3.7/dist-packages (from cycler>=0.10->matplotlib>=2.0.0->Orange3) (1.15.0)\n",
            "Collecting dictdiffer\n",
            "  Downloading dictdiffer-0.9.0-py2.py3-none-any.whl (16 kB)\n",
            "Requirement already satisfied: docutils in /usr/local/lib/python3.7/dist-packages (from orange-canvas-core<0.2a,>=0.1.21->Orange3) (0.17.1)\n",
            "Requirement already satisfied: cachecontrol[filecache] in /usr/local/lib/python3.7/dist-packages (from orange-canvas-core<0.2a,>=0.1.21->Orange3) (0.12.6)\n",
            "Collecting commonmark>=0.8.1\n",
            "  Downloading commonmark-0.9.1-py2.py3-none-any.whl (51 kB)\n",
            "\u001b[K     |████████████████████████████████| 51 kB 7.6 MB/s \n",
            "\u001b[?25hCollecting qasync\n",
            "  Downloading qasync-0.22.0-py3-none-any.whl (13 kB)\n",
            "Requirement already satisfied: importlib-metadata in /usr/local/lib/python3.7/dist-packages (from orange-canvas-core<0.2a,>=0.1.21->Orange3) (4.6.4)\n",
            "Requirement already satisfied: typing-extensions>=3.7.4.3 in /usr/local/lib/python3.7/dist-packages (from orange-widget-base>=4.13.0->Orange3) (3.7.4.3)\n",
            "Requirement already satisfied: pytz>=2017.2 in /usr/local/lib/python3.7/dist-packages (from pandas>=1.0.0->Orange3) (2018.9)\n",
            "Collecting PyQt5-sip<13,>=12.8\n",
            "  Downloading PyQt5_sip-12.9.0-cp37-cp37m-manylinux1_x86_64.whl (317 kB)\n",
            "\u001b[K     |████████████████████████████████| 317 kB 77.0 MB/s \n",
            "\u001b[?25hCollecting PyQt5-Qt5>=5.15\n",
            "  Downloading PyQt5_Qt5-5.15.2-py3-none-manylinux2014_x86_64.whl (59.9 MB)\n",
            "\u001b[K     |████████████████████████████████| 59.9 MB 34 kB/s \n",
            "\u001b[?25hCollecting PyQtWebEngine-Qt5>=5.15\n",
            "  Downloading PyQtWebEngine_Qt5-5.15.2-py3-none-manylinux2014_x86_64.whl (67.5 MB)\n",
            "\u001b[K     |████████████████████████████████| 67.5 MB 42 kB/s \n",
            "\u001b[?25hRequirement already satisfied: idna in /usr/local/lib/python3.7/dist-packages (from rfc3986[idna2008]<2,>=1.3->httpx<0.17,>=0.14.0->Orange3) (2.10)\n",
            "Requirement already satisfied: msgpack>=0.5.2 in /usr/local/lib/python3.7/dist-packages (from cachecontrol[filecache]->orange-canvas-core<0.2a,>=0.1.21->Orange3) (1.0.2)\n",
            "Collecting lockfile>=0.9\n",
            "  Downloading lockfile-0.12.2-py2.py3-none-any.whl (13 kB)\n",
            "Requirement already satisfied: zipp>=0.5 in /usr/local/lib/python3.7/dist-packages (from importlib-metadata->orange-canvas-core<0.2a,>=0.1.21->Orange3) (3.5.0)\n",
            "Collecting SecretStorage>=3.2\n",
            "  Downloading SecretStorage-3.3.1-py3-none-any.whl (15 kB)\n",
            "Collecting jeepney>=0.4.2\n",
            "  Downloading jeepney-0.7.1-py3-none-any.whl (54 kB)\n",
            "\u001b[K     |████████████████████████████████| 54 kB 2.5 MB/s \n",
            "\u001b[?25hCollecting cryptography>=2.0\n",
            "  Downloading cryptography-3.4.8-cp36-abi3-manylinux_2_24_x86_64.whl (3.0 MB)\n",
            "\u001b[K     |████████████████████████████████| 3.0 MB 46.5 MB/s \n",
            "\u001b[?25hRequirement already satisfied: cffi>=1.12 in /usr/local/lib/python3.7/dist-packages (from cryptography>=2.0->SecretStorage>=3.2->keyring->Orange3) (1.14.6)\n",
            "Requirement already satisfied: pycparser in /usr/local/lib/python3.7/dist-packages (from cffi>=1.12->cryptography>=2.0->SecretStorage>=3.2->keyring->Orange3) (2.20)\n",
            "Requirement already satisfied: et-xmlfile in /usr/local/lib/python3.7/dist-packages (from openpyxl->Orange3) (1.1.0)\n",
            "Requirement already satisfied: jdcal in /usr/local/lib/python3.7/dist-packages (from openpyxl->Orange3) (1.4.1)\n",
            "Requirement already satisfied: urllib3!=1.25.0,!=1.25.1,<1.26,>=1.21.1 in /usr/local/lib/python3.7/dist-packages (from requests->Orange3) (1.24.3)\n",
            "Building wheels for collected packages: serverfiles\n",
            "  Building wheel for serverfiles (setup.py) ... \u001b[?25l\u001b[?25hdone\n",
            "  Created wheel for serverfiles: filename=serverfiles-0.3.1-py3-none-any.whl size=6947 sha256=04d6e69603d3fb0c72ce562c7d565ccba8d2475936c6b692540b96a4440ace3e\n",
            "  Stored in directory: /root/.cache/pip/wheels/f4/36/15/fcfe21874746d5cd17c18b1e5501fbf86544da90d4ab6afe17\n",
            "Successfully built serverfiles\n",
            "Installing collected packages: lockfile, sniffio, rfc3986, qasync, PyQt5-sip, PyQt5-Qt5, jeepney, h11, dictdiffer, cryptography, commonmark, AnyQt, SecretStorage, PyQtWebEngine-Qt5, pyqtgraph, PyQt5, orange-canvas-core, httpcore, xlsxwriter, serverfiles, PyQtWebEngine, orange-widget-base, openTSNE, keyrings.alt, keyring, httpx, baycomp, Orange3\n",
            "Successfully installed AnyQt-0.0.13 Orange3-3.29.3 PyQt5-5.15.4 PyQt5-Qt5-5.15.2 PyQt5-sip-12.9.0 PyQtWebEngine-5.15.4 PyQtWebEngine-Qt5-5.15.2 SecretStorage-3.3.1 baycomp-1.0.2 commonmark-0.9.1 cryptography-3.4.8 dictdiffer-0.9.0 h11-0.12.0 httpcore-0.12.3 httpx-0.16.1 jeepney-0.7.1 keyring-23.2.1 keyrings.alt-4.1.0 lockfile-0.12.2 openTSNE-0.6.0 orange-canvas-core-0.1.22 orange-widget-base-4.13.1 pyqtgraph-0.12.2 qasync-0.22.0 rfc3986-1.5.0 serverfiles-0.3.1 sniffio-1.2.0 xlsxwriter-3.0.1\n"
          ]
        }
      ]
    },
    {
      "cell_type": "code",
      "metadata": {
        "id": "7lMMyPBDUOI8"
      },
      "source": [
        "import Orange"
      ],
      "execution_count": null,
      "outputs": []
    },
    {
      "cell_type": "code",
      "metadata": {
        "id": "gomtKV0kUS8A",
        "colab": {
          "base_uri": "https://localhost:8080/"
        },
        "outputId": "dace40f3-dbbe-4691-a004-f1433603b488"
      },
      "source": [
        "# Discreetization\n",
        "\n",
        "health = Orange.data.Table(\"https://raw.githubusercontent.com/biolab/orange3/master/Orange/datasets/housing.tab\")\n",
        "dis = Orange.preprocess.Discretize()\n",
        "dis.method=Orange.preprocess.discretize.EqualFreq(n=3)\n",
        "d_heal = dis(health)\n",
        "\n",
        "print(\"Original Dataset: \")\n",
        "for e in health[:3]:\n",
        "  print(e)\n",
        "\n",
        "print(\"Discretized Dataset: \")\n",
        "for e in d_heal[:3]:\n",
        "  print(e)"
      ],
      "execution_count": 23,
      "outputs": [
        {
          "output_type": "stream",
          "name": "stdout",
          "text": [
            "Original Dataset: \n",
            "[0.00632, 18.0, 2.31, 0, 0.5380, 6.575, 65.2, 4.0900, 1, 296, 15.3, 396.90, 4.98 | 24.0]\n",
            "[0.02731, 0.0, 7.07, 0, 0.4690, 6.421, 78.9, 4.9671, 2, 242, 17.8, 396.90, 9.14 | 21.6]\n",
            "[0.02729, 0.0, 7.07, 0, 0.4690, 7.185, 61.1, 4.9671, 2, 242, 17.8, 392.83, 4.03 | 34.7]\n",
            "Discretized Dataset: \n",
            "[< 0.114285, 6.25 - 31.5, < 6.145, < 0.5, 0.4885 - 0.591, ≥ 6.44, 56.45 - 90.15, 2.3852 - 4.3111, < 4.5, < 302, < 17.85, ≥ 394.935, < 8.345 | 24.0]\n",
            "[< 0.114285, < 6.25, 6.145 - 16.57, < 0.5, < 0.4885, 5.9855 - 6.44, 56.45 - 90.15, ≥ 4.3111, < 4.5, < 302, < 17.85, ≥ 394.935, 8.345 - 14.695 | 21.6]\n",
            "[< 0.114285, < 6.25, 6.145 - 16.57, < 0.5, < 0.4885, ≥ 6.44, 56.45 - 90.15, ≥ 4.3111, < 4.5, < 302, < 17.85, 383.49 - 394.935, < 8.345 | 34.7]\n"
          ]
        }
      ]
    },
    {
      "cell_type": "code",
      "metadata": {
        "colab": {
          "base_uri": "https://localhost:8080/"
        },
        "id": "o5p8nym2X6xP",
        "outputId": "c7bdc476-db89-4877-9843-c60cf6eac54e"
      },
      "source": [
        "#Normalization\n",
        "from Orange.preprocess import Normalize\n",
        "normalizer = Normalize(norm_type=Normalize.NormalizeBySpan)\n",
        "normalized_data = normalizer(health)\n",
        "print(\"Before Normalization: \",health[2])\n",
        "print(\"After Normalization: \",normalized_data[2])"
      ],
      "execution_count": 20,
      "outputs": [
        {
          "output_type": "stream",
          "name": "stdout",
          "text": [
            "Before Normalization:  [0.02729, 0.0, 7.07, 0, 0.4690, 7.185, 61.1, 4.9671, 2, 242, 17.8, 392.83, 4.03 | 34.7]\n",
            "After Normalization:  [0.000235698, 0.000, 0.242302, 0, 0.172840, 0.694386, 0.59938, 0.348962, 0.0435, 0.10496, 0.5532, 0.9897373, 0.063466 | 34.7]\n"
          ]
        }
      ]
    },
    {
      "cell_type": "code",
      "metadata": {
        "colab": {
          "base_uri": "https://localhost:8080/"
        },
        "id": "-atPBp2mYv99",
        "outputId": "ad43241c-4dea-484e-d634-364ee84404aa"
      },
      "source": [
        "#Randomization\n",
        "from Orange.preprocess import Randomize\n",
        "randomizer = Randomize(Randomize.RandomizeClasses)\n",
        "randomized_data = randomizer(health)\n",
        "print(\"Before Randomization: \",health[2])\n",
        "print(\"After Randomization: \",normalized_data[2])"
      ],
      "execution_count": 21,
      "outputs": [
        {
          "output_type": "stream",
          "name": "stdout",
          "text": [
            "Before Randomization:  [0.02729, 0.0, 7.07, 0, 0.4690, 7.185, 61.1, 4.9671, 2, 242, 17.8, 392.83, 4.03 | 34.7]\n",
            "After Randomization:  [0.000235698, 0.000, 0.242302, 0, 0.172840, 0.694386, 0.59938, 0.348962, 0.0435, 0.10496, 0.5532, 0.9897373, 0.063466 | 34.7]\n"
          ]
        }
      ]
    },
    {
      "cell_type": "code",
      "metadata": {
        "colab": {
          "base_uri": "https://localhost:8080/"
        },
        "id": "M31vKdqdZQ7d",
        "outputId": "ef9d39c5-129b-49d9-e268-49cac3a15b1d"
      },
      "source": [
        "#Continuization\n",
        "titanic = Orange.data.Table(\"https://raw.githubusercontent.com/biolab/orange3/master/Orange/datasets/titanic.tab\")\n",
        "continuizer = Orange.preprocess.Continuize()\n",
        "titanic1 = continuizer(titanic)\n",
        "\n",
        "print(\"Before Continuation: \",titanic.domain)\n",
        "print(\"After Continuation: \",titanic1.domain)\n",
        "\n",
        "print(\"17th Row Before Continuation: \",titanic[17])\n",
        "print(\"17th Row After Continuation: \",titanic1[17])"
      ],
      "execution_count": 22,
      "outputs": [
        {
          "output_type": "stream",
          "name": "stdout",
          "text": [
            "Before Continuation:  [status, age, sex | survived]\n",
            "After Continuation:  [status=crew, status=first, status=second, status=third, age=adult, age=child, sex=female, sex=male | survived]\n",
            "17th Row Before Continuation:  [first, adult, male | yes]\n",
            "17th Row After Continuation:  [0, 1, 0, 0, 1, 0, 0, 1 | yes]\n"
          ]
        }
      ]
    }
  ]
}