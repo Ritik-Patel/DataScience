{
  "nbformat": 4,
  "nbformat_minor": 0,
  "metadata": {
    "colab": {
      "name": "Prac-3_Data_Reduction.ipynb",
      "provenance": []
    },
    "kernelspec": {
      "display_name": "Python 3",
      "name": "python3"
    },
    "language_info": {
      "name": "python"
    }
  },
  "cells": [
    {
      "cell_type": "markdown",
      "metadata": {
        "id": "QL7myuyD1DHY"
      },
      "source": [
        "### Perform following Data Pre-processing tasks using python. Data reduction using variance threshold, univariate feature selection, recursive feature elimination, PCA.   "
      ]
    },
    {
      "cell_type": "code",
      "metadata": {
        "id": "QOLhzL711Xnh"
      },
      "source": [
        "import numpy as np\n",
        "import matplotlib.pyplot as plt\n",
        "\n",
        "from sklearn.model_selection import train_test_split\n",
        "from sklearn.feature_selection import VarianceThreshold, RFE, SelectFromModel, SelectKBest, f_classif, chi2, mutual_info_classif\n",
        "from sklearn.linear_model import LogisticRegression\n",
        "from sklearn.ensemble import RandomForestClassifier\n",
        "from sklearn.metrics import confusion_matrix, classification_report\n",
        "\n",
        "from sklearn.datasets import load_iris"
      ],
      "execution_count": 62,
      "outputs": []
    },
    {
      "cell_type": "code",
      "metadata": {
        "id": "TdCag799MJf9"
      },
      "source": [
        "iris = load_iris()\n",
        "X = iris.data\n",
        "y = iris.target"
      ],
      "execution_count": 91,
      "outputs": []
    },
    {
      "cell_type": "code",
      "metadata": {
        "colab": {
          "base_uri": "https://localhost:8080/"
        },
        "id": "USb7ZNbyMj9R",
        "outputId": "c2d3a0d5-c745-4f8f-82fe-cf99570563d8"
      },
      "source": [
        "print(X[1, :])\n",
        "print(X.shape)"
      ],
      "execution_count": null,
      "outputs": [
        {
          "name": "stdout",
          "output_type": "stream",
          "text": [
            "[4.9 3.  1.4 0.2]\n",
            "(150, 4)\n"
          ]
        }
      ]
    },
    {
      "cell_type": "code",
      "metadata": {
        "colab": {
          "base_uri": "https://localhost:8080/"
        },
        "id": "T87mF3vMM4uy",
        "outputId": "98bf9f1e-d264-4269-bcf5-a87d33f6c26e"
      },
      "source": [
        "# In order to test the effectness of different feature selection methods, we add some noise features to the dataset.\n",
        "np.random.seed(100)\n",
        "E = np.random.uniform(0, 1, size=(len(X), 10))\n",
        "X = np.hstack((X, E))\n",
        "X.shape"
      ],
      "execution_count": 92,
      "outputs": [
        {
          "output_type": "execute_result",
          "data": {
            "text/plain": [
              "(150, 14)"
            ]
          },
          "metadata": {},
          "execution_count": 92
        }
      ]
    },
    {
      "cell_type": "code",
      "metadata": {
        "colab": {
          "base_uri": "https://localhost:8080/"
        },
        "id": "bjaVQSrxNAU7",
        "outputId": "4c9942fd-3ca8-4b0f-d4ae-7de89fbb4698"
      },
      "source": [
        "X_train, X_test, y_train, y_test = train_test_split(X, y, random_state=1, test_size=0.3)\n",
        "X_train.shape"
      ],
      "execution_count": 93,
      "outputs": [
        {
          "output_type": "execute_result",
          "data": {
            "text/plain": [
              "(105, 14)"
            ]
          },
          "metadata": {},
          "execution_count": 93
        }
      ]
    },
    {
      "cell_type": "markdown",
      "metadata": {
        "id": "32rVuIaSNISc"
      },
      "source": [
        "### Variance Thresholding\n",
        "* VarianceThreshold is a simple baseline approach to feature selection. It removes all features whose variance doesn’t meet some threshold. \n",
        "* By default, it removes all zero-variance features"
      ]
    },
    {
      "cell_type": "code",
      "metadata": {
        "colab": {
          "base_uri": "https://localhost:8080/"
        },
        "id": "b2-GWPPeMOo7",
        "outputId": "24a3aa9f-0f76-4764-daa0-5a47ce604490"
      },
      "source": [
        "sel_variance_threshold = VarianceThreshold() \n",
        "X_train_remove_variance = sel_variance_threshold.fit_transform(X_train)\n",
        "X_train_remove_variance.shape\n",
        "# Variance threshold is applied but since the noise valued columns have non-zero variance, they aren't deleted"
      ],
      "execution_count": null,
      "outputs": [
        {
          "data": {
            "text/plain": [
              "(120, 14)"
            ]
          },
          "execution_count": 9,
          "metadata": {},
          "output_type": "execute_result"
        }
      ]
    },
    {
      "cell_type": "markdown",
      "metadata": {
        "id": "3CwfHtAsNrlV"
      },
      "source": [
        "### Univariate Feature Selection \n",
        "* Univariate feature selection works by selecting the best features based on univariate statistical tests.\n",
        "* We compare each feature to the target variable, to see whether there is statistially significant relationship between them.\n",
        "* When we analyze the relationship between one feature and the target variable we ignore the other features. That is why it is called 'univariate'.\n",
        "* Each feature has its own test score. \n",
        "* Finally, all the test scores are compared, and the features with top scores will be selected.\n",
        "* These objects take as input a scoring function that returns univariate scores and p-values (or only scores for SelectKBest and SelectPercentile):\n",
        "    \n",
        "    For regression: f_regression, mutual_info_regression              \n",
        "    For classification: chi2, f_classif, mutual_info_classif"
      ]
    },
    {
      "cell_type": "code",
      "metadata": {
        "colab": {
          "base_uri": "https://localhost:8080/"
        },
        "id": "pmV3WDO0MUHE",
        "outputId": "c94bd111-e86c-46b3-b49e-e8e1bff31746"
      },
      "source": [
        "# Since this is iris dataset we are working on, we will use classfication techniques\n",
        "# Analysis Of Variance (ANOVA)\n",
        "sel_f = SelectKBest(f_classif, k=4)\n",
        "X_train_f = sel_f.fit_transform(X_train, y_train)\n",
        "\n",
        "print(sel_f.get_support())\n",
        "print(sel_f.get_params())"
      ],
      "execution_count": 98,
      "outputs": [
        {
          "output_type": "stream",
          "name": "stdout",
          "text": [
            "[ True  True  True  True False False False False False False False False\n",
            " False False]\n",
            "{'k': 4, 'score_func': <function f_classif at 0x7fdb7145de60>}\n"
          ]
        }
      ]
    },
    {
      "cell_type": "code",
      "metadata": {
        "colab": {
          "base_uri": "https://localhost:8080/"
        },
        "id": "uC09Tt9bP_7l",
        "outputId": "5197da06-2058-4987-c239-c6c1737d1e63"
      },
      "source": [
        "# Chi2 Test\n",
        "sel_chi2 = SelectKBest(chi2, k=4) # select 4 features\n",
        "X_train_chi2 = sel_chi2.fit_transform(X_train, y_train)\n",
        "\n",
        "print(sel_chi2.get_support())\n",
        "print(sel_chi2.get_params())"
      ],
      "execution_count": null,
      "outputs": [
        {
          "name": "stdout",
          "output_type": "stream",
          "text": [
            "[ True  True  True  True False False False False False False False False\n",
            " False False]\n",
            "{'k': 4, 'score_func': <function chi2 at 0x7fdb71461290>}\n"
          ]
        }
      ]
    },
    {
      "cell_type": "code",
      "metadata": {
        "colab": {
          "base_uri": "https://localhost:8080/"
        },
        "id": "qSAPX8ekQPKy",
        "outputId": "021d853e-c3b2-490b-95bd-3f66bb439df7"
      },
      "source": [
        "# mutual_info_classif Test\n",
        "sel_mutual = SelectKBest(mutual_info_classif, k=4)\n",
        "X_train_mutual = sel_mutual.fit_transform(X_train, y_train)\n",
        "\n",
        "print(sel_mutual.get_support())\n",
        "print(sel_mutual.get_params())"
      ],
      "execution_count": null,
      "outputs": [
        {
          "name": "stdout",
          "output_type": "stream",
          "text": [
            "[ True  True  True  True False False False False False False False False\n",
            " False False]\n",
            "{'k': 4, 'score_func': <function mutual_info_classif at 0x7fdb6eee74d0>}\n"
          ]
        }
      ]
    },
    {
      "cell_type": "markdown",
      "metadata": {
        "id": "MuFhK4-mQv5T"
      },
      "source": [
        "### Recursive Feature Elimination\n",
        "* Given an external estimator that assigns weights to features (e.g., the coefficients of a linear model), recursive feature elimination (RFE) is to select features by recursively considering smaller and smaller sets of features.\n",
        "* First, the estimator is trained on the initial set of features and the importance of each feature is obtained either through a coef_ attribute or through a feature_importances_ attribute. Then, the least important features are pruned from current set of features.That procedure is recursively repeated on the pruned set until the desired number of features to select is eventually reached."
      ]
    },
    {
      "cell_type": "code",
      "metadata": {
        "colab": {
          "base_uri": "https://localhost:8080/"
        },
        "id": "_xD6PkESMURz",
        "outputId": "2b24c684-053d-4937-8978-4aee8e2955ef"
      },
      "source": [
        "model_tree = RandomForestClassifier(random_state=100, n_estimators=50)\n",
        "sel_rfe_tree = RFE(estimator=model_tree, n_features_to_select=4, step=1)\n",
        "X_train_rfe_tree = sel_rfe_tree.fit_transform(X_train, y_train)\n",
        "print(sel_rfe_tree.get_support())"
      ],
      "execution_count": null,
      "outputs": [
        {
          "name": "stdout",
          "output_type": "stream",
          "text": [
            "[ True  True  True  True False False False False False False False False\n",
            " False False]\n"
          ]
        }
      ]
    },
    {
      "cell_type": "markdown",
      "metadata": {
        "id": "wzGXPZbiRxap"
      },
      "source": [
        "### PCA\n",
        "* \n",
        "Since PCA yields a feature subspace that maximizes the variance along the axes, it makes sense to standardize the data, especially, if it was measured on different scales. Although, all features in the Iris dataset were measured in centimeters, let us continue with the transformation of the data onto unit scale (mean=0 and variance=1), which is a requirement for the optimal performance of many machine learning algorithms"
      ]
    },
    {
      "cell_type": "code",
      "metadata": {
        "id": "Lxmh9LkhMUYf"
      },
      "source": [
        "from sklearn.decomposition import PCA\n",
        "from sklearn.preprocessing import StandardScaler\n",
        "import pandas as pd"
      ],
      "execution_count": 45,
      "outputs": []
    },
    {
      "cell_type": "code",
      "metadata": {
        "id": "Uy7yMU6ST7q6"
      },
      "source": [
        "x = StandardScaler().fit_transform(X)\n",
        "features = ['sepal length', 'sepal width', 'petal length', 'petal width']"
      ],
      "execution_count": 46,
      "outputs": []
    },
    {
      "cell_type": "code",
      "metadata": {
        "colab": {
          "base_uri": "https://localhost:8080/",
          "height": 203
        },
        "id": "A4Leb4GlUEYn",
        "outputId": "548678db-596e-4c9a-a300-ab5cd28fa7da"
      },
      "source": [
        "pd.DataFrame(data = x, columns = features).head()"
      ],
      "execution_count": 47,
      "outputs": [
        {
          "output_type": "execute_result",
          "data": {
            "text/html": [
              "<div>\n",
              "<style scoped>\n",
              "    .dataframe tbody tr th:only-of-type {\n",
              "        vertical-align: middle;\n",
              "    }\n",
              "\n",
              "    .dataframe tbody tr th {\n",
              "        vertical-align: top;\n",
              "    }\n",
              "\n",
              "    .dataframe thead th {\n",
              "        text-align: right;\n",
              "    }\n",
              "</style>\n",
              "<table border=\"1\" class=\"dataframe\">\n",
              "  <thead>\n",
              "    <tr style=\"text-align: right;\">\n",
              "      <th></th>\n",
              "      <th>sepal length</th>\n",
              "      <th>sepal width</th>\n",
              "      <th>petal length</th>\n",
              "      <th>petal width</th>\n",
              "    </tr>\n",
              "  </thead>\n",
              "  <tbody>\n",
              "    <tr>\n",
              "      <th>0</th>\n",
              "      <td>-0.900681</td>\n",
              "      <td>1.019004</td>\n",
              "      <td>-1.340227</td>\n",
              "      <td>-1.315444</td>\n",
              "    </tr>\n",
              "    <tr>\n",
              "      <th>1</th>\n",
              "      <td>-1.143017</td>\n",
              "      <td>-0.131979</td>\n",
              "      <td>-1.340227</td>\n",
              "      <td>-1.315444</td>\n",
              "    </tr>\n",
              "    <tr>\n",
              "      <th>2</th>\n",
              "      <td>-1.385353</td>\n",
              "      <td>0.328414</td>\n",
              "      <td>-1.397064</td>\n",
              "      <td>-1.315444</td>\n",
              "    </tr>\n",
              "    <tr>\n",
              "      <th>3</th>\n",
              "      <td>-1.506521</td>\n",
              "      <td>0.098217</td>\n",
              "      <td>-1.283389</td>\n",
              "      <td>-1.315444</td>\n",
              "    </tr>\n",
              "    <tr>\n",
              "      <th>4</th>\n",
              "      <td>-1.021849</td>\n",
              "      <td>1.249201</td>\n",
              "      <td>-1.340227</td>\n",
              "      <td>-1.315444</td>\n",
              "    </tr>\n",
              "  </tbody>\n",
              "</table>\n",
              "</div>"
            ],
            "text/plain": [
              "   sepal length  sepal width  petal length  petal width\n",
              "0     -0.900681     1.019004     -1.340227    -1.315444\n",
              "1     -1.143017    -0.131979     -1.340227    -1.315444\n",
              "2     -1.385353     0.328414     -1.397064    -1.315444\n",
              "3     -1.506521     0.098217     -1.283389    -1.315444\n",
              "4     -1.021849     1.249201     -1.340227    -1.315444"
            ]
          },
          "metadata": {},
          "execution_count": 47
        }
      ]
    },
    {
      "cell_type": "code",
      "metadata": {
        "id": "Lv09NDFRUnbM"
      },
      "source": [
        "pca = PCA(n_components=2)"
      ],
      "execution_count": null,
      "outputs": []
    },
    {
      "cell_type": "code",
      "metadata": {
        "id": "S54trWz2UtJM"
      },
      "source": [
        "principalComponents = pca.fit_transform(x)"
      ],
      "execution_count": null,
      "outputs": []
    },
    {
      "cell_type": "code",
      "metadata": {
        "id": "WE8XcRwaUwfc"
      },
      "source": [
        "principalDf = pd.DataFrame(data = principalComponents\n",
        "             , columns = ['principal component 1', 'principal component 2'])"
      ],
      "execution_count": null,
      "outputs": []
    },
    {
      "cell_type": "code",
      "metadata": {
        "colab": {
          "base_uri": "https://localhost:8080/",
          "height": 203
        },
        "id": "FYiozGl4U0bD",
        "outputId": "a8138eb4-595b-4963-e015-387674f986fd"
      },
      "source": [
        "principalDf.head(5)"
      ],
      "execution_count": null,
      "outputs": [
        {
          "output_type": "execute_result",
          "data": {
            "text/html": [
              "<div>\n",
              "<style scoped>\n",
              "    .dataframe tbody tr th:only-of-type {\n",
              "        vertical-align: middle;\n",
              "    }\n",
              "\n",
              "    .dataframe tbody tr th {\n",
              "        vertical-align: top;\n",
              "    }\n",
              "\n",
              "    .dataframe thead th {\n",
              "        text-align: right;\n",
              "    }\n",
              "</style>\n",
              "<table border=\"1\" class=\"dataframe\">\n",
              "  <thead>\n",
              "    <tr style=\"text-align: right;\">\n",
              "      <th></th>\n",
              "      <th>principal component 1</th>\n",
              "      <th>principal component 2</th>\n",
              "    </tr>\n",
              "  </thead>\n",
              "  <tbody>\n",
              "    <tr>\n",
              "      <th>0</th>\n",
              "      <td>-2.264703</td>\n",
              "      <td>0.480027</td>\n",
              "    </tr>\n",
              "    <tr>\n",
              "      <th>1</th>\n",
              "      <td>-2.080961</td>\n",
              "      <td>-0.674134</td>\n",
              "    </tr>\n",
              "    <tr>\n",
              "      <th>2</th>\n",
              "      <td>-2.364229</td>\n",
              "      <td>-0.341908</td>\n",
              "    </tr>\n",
              "    <tr>\n",
              "      <th>3</th>\n",
              "      <td>-2.299384</td>\n",
              "      <td>-0.597395</td>\n",
              "    </tr>\n",
              "    <tr>\n",
              "      <th>4</th>\n",
              "      <td>-2.389842</td>\n",
              "      <td>0.646835</td>\n",
              "    </tr>\n",
              "  </tbody>\n",
              "</table>\n",
              "</div>"
            ],
            "text/plain": [
              "   principal component 1  principal component 2\n",
              "0              -2.264703               0.480027\n",
              "1              -2.080961              -0.674134\n",
              "2              -2.364229              -0.341908\n",
              "3              -2.299384              -0.597395\n",
              "4              -2.389842               0.646835"
            ]
          },
          "metadata": {},
          "execution_count": 30
        }
      ]
    },
    {
      "cell_type": "code",
      "metadata": {
        "id": "ZVEnSbJ3U_6H"
      },
      "source": [
        "# Getting Target variable from the dataset\n",
        "url = \"https://archive.ics.uci.edu/ml/machine-learning-databases/iris/iris.data\"\n",
        "df = pd.read_csv(url\n",
        "                 , names=['sepal length','sepal width','petal length','petal width','target'])\n",
        "y = df.loc[:,['target']].values"
      ],
      "execution_count": 48,
      "outputs": []
    },
    {
      "cell_type": "code",
      "metadata": {
        "colab": {
          "base_uri": "https://localhost:8080/",
          "height": 203
        },
        "id": "dLETG6IEVbtm",
        "outputId": "8d914571-f621-49a1-d51c-ee551a5ebb86"
      },
      "source": [
        "finalDf = pd.concat([principalDf, df[['target']]], axis = 1)\n",
        "finalDf.head(5)"
      ],
      "execution_count": null,
      "outputs": [
        {
          "output_type": "execute_result",
          "data": {
            "text/html": [
              "<div>\n",
              "<style scoped>\n",
              "    .dataframe tbody tr th:only-of-type {\n",
              "        vertical-align: middle;\n",
              "    }\n",
              "\n",
              "    .dataframe tbody tr th {\n",
              "        vertical-align: top;\n",
              "    }\n",
              "\n",
              "    .dataframe thead th {\n",
              "        text-align: right;\n",
              "    }\n",
              "</style>\n",
              "<table border=\"1\" class=\"dataframe\">\n",
              "  <thead>\n",
              "    <tr style=\"text-align: right;\">\n",
              "      <th></th>\n",
              "      <th>principal component 1</th>\n",
              "      <th>principal component 2</th>\n",
              "      <th>target</th>\n",
              "    </tr>\n",
              "  </thead>\n",
              "  <tbody>\n",
              "    <tr>\n",
              "      <th>0</th>\n",
              "      <td>-2.264703</td>\n",
              "      <td>0.480027</td>\n",
              "      <td>Iris-setosa</td>\n",
              "    </tr>\n",
              "    <tr>\n",
              "      <th>1</th>\n",
              "      <td>-2.080961</td>\n",
              "      <td>-0.674134</td>\n",
              "      <td>Iris-setosa</td>\n",
              "    </tr>\n",
              "    <tr>\n",
              "      <th>2</th>\n",
              "      <td>-2.364229</td>\n",
              "      <td>-0.341908</td>\n",
              "      <td>Iris-setosa</td>\n",
              "    </tr>\n",
              "    <tr>\n",
              "      <th>3</th>\n",
              "      <td>-2.299384</td>\n",
              "      <td>-0.597395</td>\n",
              "      <td>Iris-setosa</td>\n",
              "    </tr>\n",
              "    <tr>\n",
              "      <th>4</th>\n",
              "      <td>-2.389842</td>\n",
              "      <td>0.646835</td>\n",
              "      <td>Iris-setosa</td>\n",
              "    </tr>\n",
              "  </tbody>\n",
              "</table>\n",
              "</div>"
            ],
            "text/plain": [
              "   principal component 1  principal component 2       target\n",
              "0              -2.264703               0.480027  Iris-setosa\n",
              "1              -2.080961              -0.674134  Iris-setosa\n",
              "2              -2.364229              -0.341908  Iris-setosa\n",
              "3              -2.299384              -0.597395  Iris-setosa\n",
              "4              -2.389842               0.646835  Iris-setosa"
            ]
          },
          "metadata": {},
          "execution_count": 35
        }
      ]
    },
    {
      "cell_type": "code",
      "metadata": {
        "colab": {
          "base_uri": "https://localhost:8080/",
          "height": 523
        },
        "id": "UBAUoOy2Vlge",
        "outputId": "8da8b86e-43b3-4f1b-eb5a-af0a0890c2fa"
      },
      "source": [
        "fig = plt.figure(figsize = (8,8))\n",
        "ax = fig.add_subplot(1,1,1) \n",
        "ax.set_xlabel('Principal Component 1', fontsize = 15)\n",
        "ax.set_ylabel('Principal Component 2', fontsize = 15)\n",
        "ax.set_title('2 Component PCA', fontsize = 20)\n",
        "\n",
        "\n",
        "targets = ['Iris-setosa', 'Iris-versicolor', 'Iris-virginica']\n",
        "colors = ['r', 'g', 'b']\n",
        "for target, color in zip(targets,colors):\n",
        "    indicesToKeep = finalDf['target'] == target\n",
        "    ax.scatter(finalDf.loc[indicesToKeep, 'principal component 1']\n",
        "               , finalDf.loc[indicesToKeep, 'principal component 2']\n",
        "               , c = color\n",
        "               , s = 50)\n",
        "ax.legend(targets)\n",
        "ax.grid()"
      ],
      "execution_count": null,
      "outputs": [
        {
          "output_type": "display_data",
          "data": {
            "image/png": "[encoded data removed]",
            "text/plain": [
              "<Figure size 576x576 with 1 Axes>"
            ]
          },
          "metadata": {
            "needs_background": "light"
          }
        }
      ]
    },
    {
      "cell_type": "code",
      "metadata": {
        "colab": {
          "base_uri": "https://localhost:8080/",
          "height": 203
        },
        "id": "FKiFnjvfWYsz",
        "outputId": "e81f17c0-b237-45ae-83f8-a2a5afbb6b89"
      },
      "source": [
        "pca = PCA(n_components=3)\n",
        "principalComponents = pca.fit_transform(x)\n",
        "principalDf1 = pd.DataFrame(data = principalComponents\n",
        "             , columns = ['principal component 1', 'principal component 2','principal component 3'])\n",
        "finalDf1 = pd.concat([principalDf1, df[['target']]], axis = 1)\n",
        "finalDf1.head(5)"
      ],
      "execution_count": 49,
      "outputs": [
        {
          "output_type": "execute_result",
          "data": {
            "text/html": [
              "<div>\n",
              "<style scoped>\n",
              "    .dataframe tbody tr th:only-of-type {\n",
              "        vertical-align: middle;\n",
              "    }\n",
              "\n",
              "    .dataframe tbody tr th {\n",
              "        vertical-align: top;\n",
              "    }\n",
              "\n",
              "    .dataframe thead th {\n",
              "        text-align: right;\n",
              "    }\n",
              "</style>\n",
              "<table border=\"1\" class=\"dataframe\">\n",
              "  <thead>\n",
              "    <tr style=\"text-align: right;\">\n",
              "      <th></th>\n",
              "      <th>principal component 1</th>\n",
              "      <th>principal component 2</th>\n",
              "      <th>principal component 3</th>\n",
              "      <th>target</th>\n",
              "    </tr>\n",
              "  </thead>\n",
              "  <tbody>\n",
              "    <tr>\n",
              "      <th>0</th>\n",
              "      <td>-2.264703</td>\n",
              "      <td>0.480027</td>\n",
              "      <td>-0.127706</td>\n",
              "      <td>Iris-setosa</td>\n",
              "    </tr>\n",
              "    <tr>\n",
              "      <th>1</th>\n",
              "      <td>-2.080961</td>\n",
              "      <td>-0.674134</td>\n",
              "      <td>-0.234609</td>\n",
              "      <td>Iris-setosa</td>\n",
              "    </tr>\n",
              "    <tr>\n",
              "      <th>2</th>\n",
              "      <td>-2.364229</td>\n",
              "      <td>-0.341908</td>\n",
              "      <td>0.044201</td>\n",
              "      <td>Iris-setosa</td>\n",
              "    </tr>\n",
              "    <tr>\n",
              "      <th>3</th>\n",
              "      <td>-2.299384</td>\n",
              "      <td>-0.597395</td>\n",
              "      <td>0.091290</td>\n",
              "      <td>Iris-setosa</td>\n",
              "    </tr>\n",
              "    <tr>\n",
              "      <th>4</th>\n",
              "      <td>-2.389842</td>\n",
              "      <td>0.646835</td>\n",
              "      <td>0.015738</td>\n",
              "      <td>Iris-setosa</td>\n",
              "    </tr>\n",
              "  </tbody>\n",
              "</table>\n",
              "</div>"
            ],
            "text/plain": [
              "   principal component 1  ...       target\n",
              "0              -2.264703  ...  Iris-setosa\n",
              "1              -2.080961  ...  Iris-setosa\n",
              "2              -2.364229  ...  Iris-setosa\n",
              "3              -2.299384  ...  Iris-setosa\n",
              "4              -2.389842  ...  Iris-setosa\n",
              "\n",
              "[5 rows x 4 columns]"
            ]
          },
          "metadata": {},
          "execution_count": 49
        }
      ]
    },
    {
      "cell_type": "code",
      "metadata": {
        "colab": {
          "base_uri": "https://localhost:8080/",
          "height": 542
        },
        "id": "Ejh3yv8dYSyK",
        "outputId": "e8deef3a-1ae2-4e70-b417-aad3aef028e9"
      },
      "source": [
        "import plotly.express as px\n",
        "targets = ['Iris-setosa', 'Iris-versicolor', 'Iris-virginica']\n",
        "colors = ['r', 'g', 'b']\n",
        "fig = px.scatter_3d(finalDf1,x=\"principal component 1\",y=\"principal component 2\",z=\"principal component 3\",color=\"target\")\n",
        "fig.show()"
      ],
      "execution_count": 56,
      "outputs": [
        {
          "output_type": "display_data",
          "data": {
            "text/html": [
              "<html>\n",
              "<head><meta charset=\"utf-8\" /></head>\n",
              "<body>\n",
              "    <div>\n",
              "            <script src=\"https://cdnjs.cloudflare.com/ajax/libs/mathjax/2.7.5/MathJax.js?config=TeX-AMS-MML_SVG\"></script><script type=\"text/javascript\">if (window.MathJax) {MathJax.Hub.Config({SVG: {font: \"STIX-Web\"}});}</script>\n",
              "                <script type=\"text/javascript\">window.PlotlyConfig = {MathJaxConfig: 'local'};</script>\n",
              "        <script src=\"https://cdn.plot.ly/plotly-latest.min.js\"></script>    \n",
              "            <div id=\"6063b0b6-87e8-49ff-a59d-cbe66559f105\" class=\"plotly-graph-div\" style=\"height:525px; width:100%;\"></div>\n",
              "            <script type=\"text/javascript\">\n",
              "                \n",
              "                    window.PLOTLYENV=window.PLOTLYENV || {};\n",
              "                    \n",
              "                if (document.getElementById(\"6063b0b6-87e8-49ff-a59d-cbe66559f105\")) {\n",
              "                    Plotly.newPlot(\n",
              "                        '6063b0b6-87e8-49ff-a59d-cbe66559f105',\n",
              "                        [{\"hoverlabel\": {\"namelength\": 0}, \"hovertemplate\": \"target=Iris-setosa<br>principal component 1=%{x}<br>principal component 2=%{y}<br>principal component 3=%{z}\", \"legendgroup\": \"target=Iris-setosa\", \"marker\": {\"color\": \"#636efa\", \"symbol\": \"circle\"}, \"mode\": \"markers\", \"name\": \"target=Iris-setosa\", \"scene\": \"scene\", \"showlegend\": true, \"type\": \"scatter3d\", \"x\": [-2.2647028088075962, -2.0809611519657683, -2.3642290538903006, -2.299384217042709, -2.389842166313845, -2.0756309481765123, -2.4440288351341533, -2.2328471588720156, -2.334640477907622, -2.1843281749339427, -2.1663101007013226, -2.3261308664426994, -2.2184508988224096, -2.633100695765229, -2.19874060326669, -2.262214531601021, -2.207587695824593, -2.190349509192299, -1.898571995802842, -2.3433690530749938, -1.914322996082568, -2.207012843194798, -2.774344702927333, -1.818669528695849, -2.2271633057066396, -1.9518463309003766, -2.0511513727294157, -2.168577174654217, -2.139563451301332, -2.2652614931542416, -2.1401221356479847, -1.8315947706760285, -2.614947935858935, -2.446177391696515, -2.109974875318653, -2.207808899078266, -2.0451462067542012, -2.5273319131704866, -2.4296325750845473, -2.169710711630664, -2.2864751433456707, -1.8581224563735714, -2.5536383956143567, -1.9644476837637412, -2.1370590058116234, -2.06974429959183, -2.3847331657782633, -2.3943763142196337, -2.229446547942675, -2.203833435519131], \"y\": [0.48002659652098845, -0.6741335566053535, -0.34190802388467617, -0.597394507674676, 0.6468353829020274, 1.4891775233211668, 0.047644197630014214, 0.22314807268959172, -1.1153276754616666, -0.46901356140237593, 1.0436906530538599, 0.13307833523923154, -0.728676165316571, -0.9615067291701631, 1.8600571132939314, 2.6862844851105923, 1.4836093631555727, 0.4888383164863276, 1.4050187944665495, 1.1278493819084767, 0.4088557077559061, 0.9241214267468988, 0.4583436677529156, 0.08555852628736624, 0.13725445536342712, -0.6256185877766768, 0.2421635526616672, 0.5271495253082672, 0.31321781013995187, -0.33773190376048073, -0.5045406901415185, 0.42369506760378595, 1.793575856104429, 2.150727877392924, -0.4602018414370375, -0.20610739768843694, 0.6615581114631083, 0.5922927741908095, -0.9041800403761481, 0.2688789614354709, 0.4417153876990501, -2.337415157553349, -0.47910069012231404, 0.47232666771926096, 1.1422292620394092, -0.7110527253858941, 1.1204297019845368, -0.3862468725891574, 0.9979597643079806, 0.009216357521276194], \"z\": [-0.12770602230015693, -0.23460885398456796, 0.04420148483874489, 0.09129010632068192, 0.015738195676258632, 0.026968294439781614, 0.3354704011431137, -0.0886954979477264, 0.14507686363699987, -0.2537655673000065, -0.2686811022161348, 0.09375924438111159, -0.2309112372066025, 0.180796084403179, -0.47290099787307666, 0.030526609265510513, -0.005344094078264253, -0.044215316478453795, -0.37434327455765465, 0.1326304667813021, -0.4212925940873566, 0.15986527722625277, 0.3321790975568659, 0.03448859579998134, 0.11799353576964579, -0.3056409823252076, 0.08636401082518226, -0.2068162477703047, -0.27115024027656437, 0.0684357762272782, -0.07500844174913289, -0.2704673767029821, 0.04722841866848565, -0.08266804506156811, -0.17027486147830798, -0.22544158008975695, -0.4845374098283167, 0.01943581245422292, 0.19325466188423665, -0.17588382054738916, 0.03489490899169739, -0.2042342225309649, 0.3057664526377331, 0.30960131784532763, 0.2484335611210466, -0.06392982556320546, 0.05721785808911494, 0.13946790456791894, -0.181492779616471, -0.1530294904539861]}, {\"hoverlabel\": {\"namelength\": 0}, \"hovertemplate\": \"target=Iris-versicolor<br>principal component 1=%{x}<br>principal component 2=%{y}<br>principal component 3=%{z}\", \"legendgroup\": \"target=Iris-versicolor\", \"marker\": {\"color\": \"#EF553B\", \"symbol\": \"circle\"}, \"mode\": \"markers\", \"name\": \"target=Iris-versicolor\", \"scene\": \"scene\", \"showlegend\": true, \"type\": \"scatter3d\", \"x\": [1.1017811830529487, 0.7313374253960883, 1.2409793195158325, 0.40748305881738545, 1.0754747006090792, 0.38868733653566523, 0.7465297413291615, -0.4873227421256398, 0.9279016383549465, 0.011426188736980135, -0.11019628000062902, 0.44069344898307883, 0.5621083064431794, 0.7195618886754972, -0.03335470317877198, 0.8754071908577387, 0.3502516679950831, 0.1588100475479715, 1.2250936335624325, 0.1649178993863276, 0.7376826487712588, 0.4762871909409719, 1.23417809765715, 0.6328581997098222, 0.7026611831361831, 0.8742736538812915, 1.2565091165418847, 1.3584051214406332, 0.6648003672253953, -0.04025861090059523, 0.13079517549786088, 0.023452688970551062, 0.24153827295451125, 1.0610946088426148, 0.2239787735123796, 0.4291391155161612, 1.0487280512090886, 1.04453138439628, 0.06958832111642312, 0.28347723828757554, 0.2790777760554609, 0.6245697914985721, 0.3365303701314363, -0.3621833846193835, 0.28858623882315765, 0.0913606556545055, 0.22771686553470033, 0.5763882886534792, -0.44766701902861156, 0.25673058888758504], \"y\": [0.862972418262159, 0.5946147256694247, 0.6162976544374986, -1.7544039893234114, -0.20842104605096534, -0.5932836359900753, 0.7730193120985969, -1.8524290868575748, 0.03222607789115382, -1.034018275129441, -2.6540728185365654, -0.06329518843800135, -1.7647243806169455, -0.18622460583150582, -0.4390032099816246, 0.5090639567734088, -0.19631173455144407, -0.7920957424327216, -1.622243803091502, -1.302609230295773, 0.3965715619602392, -0.4173202812135508, -0.9333257287992788, -0.4163877208890996, -0.06341181972480012, 0.25079339290061226, -0.07725601969586891, 0.3313116817908983, -0.2259278546948436, -1.0587185465539086, -1.562271834209968, -1.5724755942167052, -0.7772563825848416, -0.6338432447349469, -0.2877735120432024, 0.8455822409050792, 0.5220517968629429, -1.3829887191907821, -0.21950333464771507, -1.3293246390695768, -1.120028523742404, 0.024923029254012633, -0.9884040176703606, -2.019237873238612, -0.8557303199870664, -0.18119212582577537, -0.38492008098735386, -0.15487359721655886, -1.5437920343977565, -0.5988517961556694], \"z\": [-0.6845861626897368, -0.09412171552908227, -0.5540068353861008, -0.023101767813801515, -0.39825552250622664, 0.12419154951817014, 0.14896940252805102, 0.24926526578924932, -0.5961693613725384, 0.5388993901843677, -0.04679044405838323, 0.20507381532720287, -0.7657713936539614, -0.06865894542301254, 0.194932893328979, -0.5035113816560302, 0.49087307451472745, -0.3020371744413824, -0.4823040240972376, -0.1728378084328765, 0.6165263063228639, -0.26495222652803935, -0.3684122720486101, -0.29189625244315787, -0.446027007561747, -0.47257895443311454, -0.7271550018678918, -0.26082657679061383, 0.08586388873932607, -0.3195733299955364, -0.14998347833947343, -0.2415522812906835, -0.1512119570570081, 0.10531138658459725, 0.6652497197140529, 0.45063407144476575, -0.39578638444579717, -0.6882959600930609, 0.29157927435328435, 0.08941002293969495, 0.09448760101279027, -0.02048114717577578, -0.19938975530424488, 0.10582104781283835, 0.1308896853525515, 0.12897834306143352, 0.15621315350638404, -0.27165036236242046, 0.19040093039983647, 0.09187916100012435]}, {\"hoverlabel\": {\"namelength\": 0}, \"hovertemplate\": \"target=Iris-virginica<br>principal component 1=%{x}<br>principal component 2=%{y}<br>principal component 3=%{z}\", \"legendgroup\": \"target=Iris-virginica\", \"marker\": {\"color\": \"#00cc96\", \"symbol\": \"circle\"}, \"mode\": \"markers\", \"name\": \"target=Iris-virginica\", \"scene\": \"scene\", \"showlegend\": true, \"type\": \"scatter3d\", \"x\": [1.8445688677230303, 1.1578816132057803, 2.20526679107538, 1.4401506638275403, 1.867812220330539, 2.7518733356662795, 0.3670176878607246, 2.3024394446251994, 2.006686467676607, 2.2597773490125026, 1.364175492186009, 1.6026786704779319, 1.8839007017032443, 1.2601150991975083, 1.4676452010173249, 1.5900773176145668, 1.4714314611333195, 2.4263289873157023, 3.31069558393389, 1.2637666736398292, 2.0377163014694064, 0.9779807342494222, 2.8976514907341713, 1.3332321759732098, 1.7007338974912185, 1.9543267058530729, 1.1751036315549332, 1.0209505506957919, 1.788349920179667, 1.8636475533282626, 2.4359537279227057, 2.3049277218317665, 1.862703219794957, 1.1141477406864755, 1.2024733016783917, 2.7987704475781103, 1.5762559101947553, 1.3462921036270628, 0.9248249165424202, 1.8520450517676719, 2.0148104299548772, 1.901784090262191, 1.1578816132057803, 2.0405582280520944, 1.9981470959523777, 1.8705032929564123, 1.5645804830303291, 1.521170499627839, 1.3727877895140739, 0.9606560300371285], \"y\": [0.8704213123248238, -0.6988698623306903, 0.5620104770083558, -0.04698758810580656, 0.29504482445701996, 0.8004092010275421, -1.5615028914765063, 0.42006557964277635, -0.711438653547159, 1.9210103764598871, 0.6927564544903874, -0.4217004497726171, 0.4192496506051238, -1.1622604214064634, -0.44227158737708216, 0.6762448057233205, 0.2556218244714706, 2.556661250795492, 0.01778094932062698, -1.706745380376268, 0.9104674096183113, -0.5717643248129917, 0.4136410595956476, -0.4818112186494293, 1.0139218673227917, 1.0077775961534527, -0.31639447230979095, 0.06434602923956201, -0.18736121459082863, 0.5622907258861447, 0.25928443314428035, 2.626323468232379, -0.17854949462549016, -0.29292262333573144, -0.8113152708396693, 0.8568033294971058, 1.0685811073208082, 0.42243061085250844, 0.01722310045228429, 0.676128174436522, 0.6138856369235756, 0.6895754942430032, -0.6988698623306903, 0.8675206009552289, 1.0491687471841455, 0.386966081665726, -0.8966868088965264, 0.26906914427795187, 1.0112544185267935, -0.024331668169399266], \"z\": [1.005401017606987, 0.5301601492490194, -0.20291416973686852, 0.16363010683005855, 0.3956283745532976, -0.5823091028286044, 0.9868932674720252, -0.6517064392599933, -0.39399057081656447, 0.39755189746977393, 0.28461207375681646, 0.02318640791006275, 0.026338409544075105, 0.5802492897873729, 1.0038695737342602, 0.6384287080805979, 0.03743125987796868, -0.12788145946307244, -0.703305303903329, -0.2675368932503538, 0.23479948360032768, 0.8281272013877699, -0.8574218248739516, -0.0054283638300178065, 0.2984506125330053, -0.41998472191862013, 0.12993775701688154, 0.3377159674995531, 0.2706580063187424, -0.7156341185745366, -0.7278161456737295, -0.49347380769433047, 0.354148712140441, -0.1834883916593428, -0.16472375738765394, -0.5429064994324281, 0.945853818643991, 0.18087547785437977, 0.4168261929697045, -0.01267211480835184, 0.4283328421150931, 0.1300750054465105, 0.5301601492490194, 0.3381440004590144, 0.6324134358197994, 0.25627385239860045, -0.026371351632304366, 0.1801783801328315, 0.9333952411629322, 0.5282488069579018]}],\n",
              "                        {\"legend\": {\"tracegroupgap\": 0}, \"margin\": {\"t\": 60}, \"scene\": {\"domain\": {\"x\": [0.0, 1.0], \"y\": [0.0, 1.0]}, \"xaxis\": {\"title\": {\"text\": \"principal component 1\"}}, \"yaxis\": {\"title\": {\"text\": \"principal component 2\"}}, \"zaxis\": {\"title\": {\"text\": \"principal component 3\"}}}, \"template\": {\"data\": {\"bar\": [{\"error_x\": {\"color\": \"#2a3f5f\"}, \"error_y\": {\"color\": \"#2a3f5f\"}, \"marker\": {\"line\": {\"color\": \"#E5ECF6\", \"width\": 0.5}}, \"type\": \"bar\"}], \"barpolar\": [{\"marker\": {\"line\": {\"color\": \"#E5ECF6\", \"width\": 0.5}}, \"type\": \"barpolar\"}], \"carpet\": [{\"aaxis\": {\"endlinecolor\": \"#2a3f5f\", \"gridcolor\": \"white\", \"linecolor\": \"white\", \"minorgridcolor\": \"white\", \"startlinecolor\": \"#2a3f5f\"}, \"baxis\": {\"endlinecolor\": \"#2a3f5f\", \"gridcolor\": \"white\", \"linecolor\": \"white\", \"minorgridcolor\": \"white\", \"startlinecolor\": \"#2a3f5f\"}, \"type\": \"carpet\"}], \"choropleth\": [{\"colorbar\": {\"outlinewidth\": 0, \"ticks\": \"\"}, \"type\": \"choropleth\"}], \"contour\": [{\"colorbar\": {\"outlinewidth\": 0, \"ticks\": \"\"}, \"colorscale\": [[0.0, \"#0d0887\"], [0.1111111111111111, \"#46039f\"], [0.2222222222222222, \"#7201a8\"], [0.3333333333333333, \"#9c179e\"], [0.4444444444444444, \"#bd3786\"], [0.5555555555555556, \"#d8576b\"], [0.6666666666666666, \"#ed7953\"], [0.7777777777777778, \"#fb9f3a\"], [0.8888888888888888, \"#fdca26\"], [1.0, \"#f0f921\"]], \"type\": \"contour\"}], \"contourcarpet\": [{\"colorbar\": {\"outlinewidth\": 0, \"ticks\": \"\"}, \"type\": \"contourcarpet\"}], \"heatmap\": [{\"colorbar\": {\"outlinewidth\": 0, \"ticks\": \"\"}, \"colorscale\": [[0.0, \"#0d0887\"], [0.1111111111111111, \"#46039f\"], [0.2222222222222222, \"#7201a8\"], [0.3333333333333333, \"#9c179e\"], [0.4444444444444444, \"#bd3786\"], [0.5555555555555556, \"#d8576b\"], [0.6666666666666666, \"#ed7953\"], [0.7777777777777778, \"#fb9f3a\"], [0.8888888888888888, \"#fdca26\"], [1.0, \"#f0f921\"]], \"type\": \"heatmap\"}], \"heatmapgl\": [{\"colorbar\": {\"outlinewidth\": 0, \"ticks\": \"\"}, \"colorscale\": [[0.0, \"#0d0887\"], [0.1111111111111111, \"#46039f\"], [0.2222222222222222, \"#7201a8\"], [0.3333333333333333, \"#9c179e\"], [0.4444444444444444, \"#bd3786\"], [0.5555555555555556, \"#d8576b\"], [0.6666666666666666, \"#ed7953\"], [0.7777777777777778, \"#fb9f3a\"], [0.8888888888888888, \"#fdca26\"], [1.0, \"#f0f921\"]], \"type\": \"heatmapgl\"}], \"histogram\": [{\"marker\": {\"colorbar\": {\"outlinewidth\": 0, \"ticks\": \"\"}}, \"type\": \"histogram\"}], \"histogram2d\": [{\"colorbar\": {\"outlinewidth\": 0, \"ticks\": \"\"}, \"colorscale\": [[0.0, \"#0d0887\"], [0.1111111111111111, \"#46039f\"], [0.2222222222222222, \"#7201a8\"], [0.3333333333333333, \"#9c179e\"], [0.4444444444444444, \"#bd3786\"], [0.5555555555555556, \"#d8576b\"], [0.6666666666666666, \"#ed7953\"], [0.7777777777777778, \"#fb9f3a\"], [0.8888888888888888, \"#fdca26\"], [1.0, \"#f0f921\"]], \"type\": \"histogram2d\"}], \"histogram2dcontour\": [{\"colorbar\": {\"outlinewidth\": 0, \"ticks\": \"\"}, \"colorscale\": [[0.0, \"#0d0887\"], [0.1111111111111111, \"#46039f\"], [0.2222222222222222, \"#7201a8\"], [0.3333333333333333, \"#9c179e\"], [0.4444444444444444, \"#bd3786\"], [0.5555555555555556, \"#d8576b\"], [0.6666666666666666, \"#ed7953\"], [0.7777777777777778, \"#fb9f3a\"], [0.8888888888888888, \"#fdca26\"], [1.0, \"#f0f921\"]], \"type\": \"histogram2dcontour\"}], \"mesh3d\": [{\"colorbar\": {\"outlinewidth\": 0, \"ticks\": \"\"}, \"type\": \"mesh3d\"}], \"parcoords\": [{\"line\": {\"colorbar\": {\"outlinewidth\": 0, \"ticks\": \"\"}}, \"type\": \"parcoords\"}], \"pie\": [{\"automargin\": true, \"type\": \"pie\"}], \"scatter\": [{\"marker\": {\"colorbar\": {\"outlinewidth\": 0, \"ticks\": \"\"}}, \"type\": \"scatter\"}], \"scatter3d\": [{\"line\": {\"colorbar\": {\"outlinewidth\": 0, \"ticks\": \"\"}}, \"marker\": {\"colorbar\": {\"outlinewidth\": 0, \"ticks\": \"\"}}, \"type\": \"scatter3d\"}], \"scattercarpet\": [{\"marker\": {\"colorbar\": {\"outlinewidth\": 0, \"ticks\": \"\"}}, \"type\": \"scattercarpet\"}], \"scattergeo\": [{\"marker\": {\"colorbar\": {\"outlinewidth\": 0, \"ticks\": \"\"}}, \"type\": \"scattergeo\"}], \"scattergl\": [{\"marker\": {\"colorbar\": {\"outlinewidth\": 0, \"ticks\": \"\"}}, \"type\": \"scattergl\"}], \"scattermapbox\": [{\"marker\": {\"colorbar\": {\"outlinewidth\": 0, \"ticks\": \"\"}}, \"type\": \"scattermapbox\"}], \"scatterpolar\": [{\"marker\": {\"colorbar\": {\"outlinewidth\": 0, \"ticks\": \"\"}}, \"type\": \"scatterpolar\"}], \"scatterpolargl\": [{\"marker\": {\"colorbar\": {\"outlinewidth\": 0, \"ticks\": \"\"}}, \"type\": \"scatterpolargl\"}], \"scatterternary\": [{\"marker\": {\"colorbar\": {\"outlinewidth\": 0, \"ticks\": \"\"}}, \"type\": \"scatterternary\"}], \"surface\": [{\"colorbar\": {\"outlinewidth\": 0, \"ticks\": \"\"}, \"colorscale\": [[0.0, \"#0d0887\"], [0.1111111111111111, \"#46039f\"], [0.2222222222222222, \"#7201a8\"], [0.3333333333333333, \"#9c179e\"], [0.4444444444444444, \"#bd3786\"], [0.5555555555555556, \"#d8576b\"], [0.6666666666666666, \"#ed7953\"], [0.7777777777777778, \"#fb9f3a\"], [0.8888888888888888, \"#fdca26\"], [1.0, \"#f0f921\"]], \"type\": \"surface\"}], \"table\": [{\"cells\": {\"fill\": {\"color\": \"#EBF0F8\"}, \"line\": {\"color\": \"white\"}}, \"header\": {\"fill\": {\"color\": \"#C8D4E3\"}, \"line\": {\"color\": \"white\"}}, \"type\": \"table\"}]}, \"layout\": {\"annotationdefaults\": {\"arrowcolor\": \"#2a3f5f\", \"arrowhead\": 0, \"arrowwidth\": 1}, \"coloraxis\": {\"colorbar\": {\"outlinewidth\": 0, \"ticks\": \"\"}}, \"colorscale\": {\"diverging\": [[0, \"#8e0152\"], [0.1, \"#c51b7d\"], [0.2, \"#de77ae\"], [0.3, \"#f1b6da\"], [0.4, \"#fde0ef\"], [0.5, \"#f7f7f7\"], [0.6, \"#e6f5d0\"], [0.7, \"#b8e186\"], [0.8, \"#7fbc41\"], [0.9, \"#4d9221\"], [1, \"#276419\"]], \"sequential\": [[0.0, \"#0d0887\"], [0.1111111111111111, \"#46039f\"], [0.2222222222222222, \"#7201a8\"], [0.3333333333333333, \"#9c179e\"], [0.4444444444444444, \"#bd3786\"], [0.5555555555555556, \"#d8576b\"], [0.6666666666666666, \"#ed7953\"], [0.7777777777777778, \"#fb9f3a\"], [0.8888888888888888, \"#fdca26\"], [1.0, \"#f0f921\"]], \"sequentialminus\": [[0.0, \"#0d0887\"], [0.1111111111111111, \"#46039f\"], [0.2222222222222222, \"#7201a8\"], [0.3333333333333333, \"#9c179e\"], [0.4444444444444444, \"#bd3786\"], [0.5555555555555556, \"#d8576b\"], [0.6666666666666666, \"#ed7953\"], [0.7777777777777778, \"#fb9f3a\"], [0.8888888888888888, \"#fdca26\"], [1.0, \"#f0f921\"]]}, \"colorway\": [\"#636efa\", \"#EF553B\", \"#00cc96\", \"#ab63fa\", \"#FFA15A\", \"#19d3f3\", \"#FF6692\", \"#B6E880\", \"#FF97FF\", \"#FECB52\"], \"font\": {\"color\": \"#2a3f5f\"}, \"geo\": {\"bgcolor\": \"white\", \"lakecolor\": \"white\", \"landcolor\": \"#E5ECF6\", \"showlakes\": true, \"showland\": true, \"subunitcolor\": \"white\"}, \"hoverlabel\": {\"align\": \"left\"}, \"hovermode\": \"closest\", \"mapbox\": {\"style\": \"light\"}, \"paper_bgcolor\": \"white\", \"plot_bgcolor\": \"#E5ECF6\", \"polar\": {\"angularaxis\": {\"gridcolor\": \"white\", \"linecolor\": \"white\", \"ticks\": \"\"}, \"bgcolor\": \"#E5ECF6\", \"radialaxis\": {\"gridcolor\": \"white\", \"linecolor\": \"white\", \"ticks\": \"\"}}, \"scene\": {\"xaxis\": {\"backgroundcolor\": \"#E5ECF6\", \"gridcolor\": \"white\", \"gridwidth\": 2, \"linecolor\": \"white\", \"showbackground\": true, \"ticks\": \"\", \"zerolinecolor\": \"white\"}, \"yaxis\": {\"backgroundcolor\": \"#E5ECF6\", \"gridcolor\": \"white\", \"gridwidth\": 2, \"linecolor\": \"white\", \"showbackground\": true, \"ticks\": \"\", \"zerolinecolor\": \"white\"}, \"zaxis\": {\"backgroundcolor\": \"#E5ECF6\", \"gridcolor\": \"white\", \"gridwidth\": 2, \"linecolor\": \"white\", \"showbackground\": true, \"ticks\": \"\", \"zerolinecolor\": \"white\"}}, \"shapedefaults\": {\"line\": {\"color\": \"#2a3f5f\"}}, \"ternary\": {\"aaxis\": {\"gridcolor\": \"white\", \"linecolor\": \"white\", \"ticks\": \"\"}, \"baxis\": {\"gridcolor\": \"white\", \"linecolor\": \"white\", \"ticks\": \"\"}, \"bgcolor\": \"#E5ECF6\", \"caxis\": {\"gridcolor\": \"white\", \"linecolor\": \"white\", \"ticks\": \"\"}}, \"title\": {\"x\": 0.05}, \"xaxis\": {\"automargin\": true, \"gridcolor\": \"white\", \"linecolor\": \"white\", \"ticks\": \"\", \"title\": {\"standoff\": 15}, \"zerolinecolor\": \"white\", \"zerolinewidth\": 2}, \"yaxis\": {\"automargin\": true, \"gridcolor\": \"white\", \"linecolor\": \"white\", \"ticks\": \"\", \"title\": {\"standoff\": 15}, \"zerolinecolor\": \"white\", \"zerolinewidth\": 2}}}},\n",
              "                        {\"responsive\": true}\n",
              "                    ).then(function(){\n",
              "                            \n",
              "var gd = document.getElementById('6063b0b6-87e8-49ff-a59d-cbe66559f105');\n",
              "var x = new MutationObserver(function (mutations, observer) {{\n",
              "        var display = window.getComputedStyle(gd).display;\n",
              "        if (!display || display === 'none') {{\n",
              "            console.log([gd, 'removed!']);\n",
              "            Plotly.purge(gd);\n",
              "            observer.disconnect();\n",
              "        }}\n",
              "}});\n",
              "\n",
              "// Listen for the removal of the full notebook cells\n",
              "var notebookContainer = gd.closest('#notebook-container');\n",
              "if (notebookContainer) {{\n",
              "    x.observe(notebookContainer, {childList: true});\n",
              "}}\n",
              "\n",
              "// Listen for the clearing of the current output cell\n",
              "var outputEl = gd.closest('.output');\n",
              "if (outputEl) {{\n",
              "    x.observe(outputEl, {childList: true});\n",
              "}}\n",
              "\n",
              "                        })\n",
              "                };\n",
              "                \n",
              "            </script>\n",
              "        </div>\n",
              "</body>\n",
              "</html>"
            ]
          },
          "metadata": {}
        }
      ]
    },
    {
      "cell_type": "markdown",
      "metadata": {
        "id": "mo2T6daOjYk7"
      },
      "source": [
        "## Differences between before and after using Feature Selection"
      ]
    },
    {
      "cell_type": "code",
      "metadata": {
        "colab": {
          "base_uri": "https://localhost:8080/"
        },
        "id": "ECn6NixvjXFV",
        "outputId": "560f2feb-b68b-4e88-d263-db9c5736be8b"
      },
      "source": [
        "#Before using Feature Selection\n",
        "model_logistic = LogisticRegression(multi_class='multinomial', max_iter=1000)\n",
        "model_logistic.fit(X_train, y_train)\n",
        "predict = model_logistic.predict(X_test)\n",
        "print(confusion_matrix(y_test, predict))\n",
        "print(classification_report(y_test, predict))"
      ],
      "execution_count": 94,
      "outputs": [
        {
          "output_type": "stream",
          "name": "stdout",
          "text": [
            "[[14  0  0]\n",
            " [ 0 16  2]\n",
            " [ 0  1 12]]\n",
            "              precision    recall  f1-score   support\n",
            "\n",
            "           0       1.00      1.00      1.00        14\n",
            "           1       0.94      0.89      0.91        18\n",
            "           2       0.86      0.92      0.89        13\n",
            "\n",
            "    accuracy                           0.93        45\n",
            "   macro avg       0.93      0.94      0.93        45\n",
            "weighted avg       0.94      0.93      0.93        45\n",
            "\n"
          ]
        }
      ]
    },
    {
      "cell_type": "code",
      "metadata": {
        "colab": {
          "base_uri": "https://localhost:8080/"
        },
        "id": "rVK_mInMjgDN",
        "outputId": "d8d4d7fb-e6aa-42c9-90e0-03df75083229"
      },
      "source": [
        "#After using Feature Selection\n",
        "model_logistic = LogisticRegression(solver='saga', multi_class='multinomial', max_iter=10000)\n",
        "model_logistic.fit(X_train_f, y_train)"
      ],
      "execution_count": 96,
      "outputs": [
        {
          "output_type": "execute_result",
          "data": {
            "text/plain": [
              "LogisticRegression(C=1.0, class_weight=None, dual=False, fit_intercept=True,\n",
              "                   intercept_scaling=1, l1_ratio=None, max_iter=10000,\n",
              "                   multi_class='multinomial', n_jobs=None, penalty='l2',\n",
              "                   random_state=None, solver='saga', tol=0.0001, verbose=0,\n",
              "                   warm_start=False)"
            ]
          },
          "metadata": {},
          "execution_count": 96
        }
      ]
    },
    {
      "cell_type": "code",
      "metadata": {
        "colab": {
          "base_uri": "https://localhost:8080/"
        },
        "id": "kvUKfHydjnzE",
        "outputId": "0bb4a6ac-2acb-4158-9573-cc36cf68e22c"
      },
      "source": [
        "X_test_f = sel_f.transform(X_test)\n",
        "print(X_test.shape)\n",
        "print(X_test_f.shape)"
      ],
      "execution_count": 99,
      "outputs": [
        {
          "output_type": "stream",
          "name": "stdout",
          "text": [
            "(45, 14)\n",
            "(45, 4)\n"
          ]
        }
      ]
    },
    {
      "cell_type": "code",
      "metadata": {
        "colab": {
          "base_uri": "https://localhost:8080/"
        },
        "id": "6yGjxHosj499",
        "outputId": "25cc8d10-0269-4ad7-8cc5-7b256d6e19fa"
      },
      "source": [
        "predict = model_logistic.predict(X_test_f)\n",
        "print(confusion_matrix(y_test, predict))\n",
        "print(classification_report(y_test, predict))"
      ],
      "execution_count": 100,
      "outputs": [
        {
          "output_type": "stream",
          "name": "stdout",
          "text": [
            "[[14  0  0]\n",
            " [ 0 17  1]\n",
            " [ 0  0 13]]\n",
            "              precision    recall  f1-score   support\n",
            "\n",
            "           0       1.00      1.00      1.00        14\n",
            "           1       1.00      0.94      0.97        18\n",
            "           2       0.93      1.00      0.96        13\n",
            "\n",
            "    accuracy                           0.98        45\n",
            "   macro avg       0.98      0.98      0.98        45\n",
            "weighted avg       0.98      0.98      0.98        45\n",
            "\n"
          ]
        }
      ]
    }
  ]
}